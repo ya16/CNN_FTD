{
  "nbformat": 4,
  "nbformat_minor": 0,
  "metadata": {
    "accelerator": "TPU",
    "colab": {
      "name": "CNN - Frontotemporal Dementia Differentiation ",
      "provenance": [],
      "include_colab_link": true
    },
    "kernelspec": {
      "display_name": "Python 3",
      "name": "python3"
    },
    "language_info": {
      "name": "python"
    }
  },
  "cells": [
    {
      "cell_type": "markdown",
      "metadata": {
        "id": "view-in-github",
        "colab_type": "text"
      },
      "source": [
        "<a href=\"https://colab.research.google.com/github/ya16/CNN_FTD/blob/main/CNN_Frontotemporal_Dementia_Differentiation.ipynb\" target=\"_parent\"><img src=\"https://colab.research.google.com/assets/colab-badge.svg\" alt=\"Open In Colab\"/></a>"
      ]
    },
    {
      "cell_type": "markdown",
      "metadata": {
        "id": "LcistPo5QR3F"
      },
      "source": [
        "#Background Information"
      ]
    },
    {
      "cell_type": "markdown",
      "metadata": {
        "id": "uamaxri0QVhW"
      },
      "source": [
        "Author: Yusuf Abdulle\n",
        "Project: Classifying different forms of FTD using a Convolutional Neural Network."
      ]
    },
    {
      "cell_type": "markdown",
      "metadata": {
        "id": "6beTcpCP8SbJ"
      },
      "source": [
        "#Generate Images from Matrix Files (Training)\n"
      ]
    },
    {
      "cell_type": "code",
      "metadata": {
        "id": "vtVbcpuN8U2C"
      },
      "source": [
        "#Matrix creation\n",
        "#Matrix shape = 65x65\n",
        "#Control - Training\n",
        "w = [(1001), (1018), (1020), (1021), (1035), (1037), (1038), (1041), (1056), (1081), (1094), (1099), (1103), (1105), (1107), (1109), (1110), (1111), (1112), (1115), (1118), (1120), (1121), (1122), (1124), (1126), (1128), (1130), (1131), (1135), (1137), (1141), (1150), (1152), (1154), (1155), (1157), (1160), (1161), (1162), (1164), (1165), (1166), (1168), (1170), (1171), (1173), (1174), (1175), (1177), (1178), (1179), (1180), (1181), (1183), (1184), (1185), (1187), (1188), (1189), (1190), (1191), (1193), (1194), (1195), (1196), (1198), (1199), (1200), (1201), (1202), (1203), (1205), (1206), (1207), (1208), (1209), (1210), (1212), (1213), (1214), (1215), (1217), (1218), (1219), (1221), (1222), (1223), (1225), (1226), (1227), (1252), (1254), (1259), (1264), (1267),]\n",
        "for w in w:\n",
        "        with open(\"/content/gdrive/My Drive/University/Postgraduate/Research_Project/CNN/FTD/untouched/training/control/NIFD-{0}-sub\".format(w)) as file_in:\n",
        "          lines = []\n",
        "          for line in file_in:\n",
        "            lines.append([int(i) for i in line.strip(\" \\n\").split()])\n",
        "        matrix = np.array(lines)\n",
        "        s = bct.threshold_proportional(matrix, .20)\n",
        "        fig = plt.figure()\n",
        "        sms.heatmap(s)\n",
        "        fig.savefig('/content/gdrive/My Drive/University/Postgraduate/Research_Project/CNN/FTD/training/control/NIFD-{0}-sub'.format(w))\n",
        "        plt.cla()"
      ],
      "execution_count": null,
      "outputs": []
    },
    {
      "cell_type": "code",
      "metadata": {
        "id": "LH7R3boVIZSD"
      },
      "source": [
        "#Matrix creation\n",
        "#Matrix shape = 65x65\n",
        "#bvftd. - Training\n",
        "w = [ (1068), (1004), (1009), (1014), (1015), (1023), (1025), (1031), (1034), (1043), (1049), (1050), (1055), (1061), (1064), (1070), (1072), (1077), (1078), (1085), (1089), (1092), (1096), (1100), (1101), (1133), (1145), (1148), (1156), (1163), (1229), (1231), (1232), (1233), (1236), (1237), (1242), (1244), (1245), (1250), (1251), (1255), (1256), (1258), (1262), (1263), (1268), (1269), (1272), (1273), (1278), (1281), (1282),]\n",
        "for w in w:\n",
        "        with open(\"/content/gdrive/My Drive/University/Postgraduate/Research_Project/CNN/FTD/untouched/training/bvftd/NIFD-{0}-sub\".format(w)) as file_in:\n",
        "          lines = []\n",
        "          for line in file_in:\n",
        "            lines.append([int(i) for i in line.strip(\" \\n\").split()])\n",
        "        matrix = np.array(lines)\n",
        "        s = bct.threshold_proportional(matrix, .20)\n",
        "        fig = plt.figure()\n",
        "        sms.heatmap(s)\n",
        "        fig.savefig('/content/gdrive/My Drive/University/Postgraduate/Research_Project/CNN/FTD/training/bvftd/NIFD-{0}-sub'.format(w))\n",
        "        plt.cla()"
      ],
      "execution_count": null,
      "outputs": []
    },
    {
      "cell_type": "code",
      "metadata": {
        "id": "F7jqs8zNIjCw"
      },
      "source": [
        "#Matrix creation\n",
        "#Matrix shape = 65x65\n",
        "#svppa - Training\n",
        "w = [ (1286), (1285), (1277), (1261), (1240), (1248), (1238), (1147), (1136), (1132), (1097), (1090), (1076), (1073), (1065), (1059), (1054), (1044), (1042), (1028), (1024), (1022), (1017), (1012), (1007), (1006),]\n",
        "for w in w:\n",
        "        with open(\"/content/gdrive/My Drive/University/Postgraduate/Research_Project/CNN/FTD/untouched/training/svppa/NIFD-{0}-sub\".format(w)) as file_in:\n",
        "          lines = []\n",
        "          for line in file_in:\n",
        "            lines.append([int(i) for i in line.strip(\" \\n\").split()])\n",
        "        matrix = np.array(lines)\n",
        "        s = bct.threshold_proportional(matrix, .20)\n",
        "        fig = plt.figure()\n",
        "        sms.heatmap(s)\n",
        "        fig.savefig('/content/gdrive/My Drive/University/Postgraduate/Research_Project/CNN/FTD/training/svppa/NIFD-{0}-sub'.format(w))\n",
        "        plt.cla()"
      ],
      "execution_count": null,
      "outputs": []
    },
    {
      "cell_type": "code",
      "metadata": {
        "id": "5hUiqM2dIuog"
      },
      "source": [
        "#Matrix creation\n",
        "#Matrix shape = 65x65\n",
        "#nfvPPA - Training\n",
        "w = [ (1287), (1283), (1276), (1234), (1243), (1246), (1159), (1146), (1117), (1138), (1142), (1102), (1098), (1087), (1091), (1084), (1080), (1082), (1066), (1058), (1053), (1051), (1045), (1039), (1032), (1013), (1010),]\n",
        "for w in w:\n",
        "        with open(\"/content/gdrive/My Drive/University/Postgraduate/Research_Project/CNN/FTD/untouched/training/nfvppa/NIFD-{0}-sub\".format(w)) as file_in:\n",
        "          lines = []\n",
        "          for line in file_in:\n",
        "            lines.append([int(i) for i in line.strip(\" \\n\").split()])\n",
        "        matrix = np.array(lines)\n",
        "        s = bct.threshold_proportional(matrix, .20)\n",
        "        fig = plt.figure()\n",
        "        sms.heatmap(s)\n",
        "        fig.savefig('/content/gdrive/My Drive/University/Postgraduate/Research_Project/CNN/FTD/training/nfvppa/NIFD-{0}-sub'.format(w))\n",
        "        plt.cla()"
      ],
      "execution_count": null,
      "outputs": []
    },
    {
      "cell_type": "markdown",
      "metadata": {
        "id": "5-YMfQOU4WBY"
      },
      "source": [
        "#Generate Matrix Images (Test)\n"
      ]
    },
    {
      "cell_type": "code",
      "metadata": {
        "id": "6oX9oy2L4YO6"
      },
      "source": [
        "#Matrix creation\n",
        "#Matrix shape = 65x65\n",
        "#Control - Test\n",
        "w = [ (1016), (1026), (1036), (1052), (1062), (1086), (1106), (1116), (1123), (1125), (1127), (1129), (1134), (1140), (1151), (1158), (1167), (1169), (1172), (1176), (1182), (1186), (1192), (1204), (1211), (1216), (1220), (1224), (1228), (1257), (1260), (1270),]\n",
        "for w in w:\n",
        "        with open(\"/content/gdrive/My Drive/University/Postgraduate/Research_Project/CNN/FTD/untouched/test/control/NIFD-{0}-sub\".format(w)) as file_in:\n",
        "          lines = []\n",
        "          for line in file_in:\n",
        "            lines.append([int(i) for i in line.strip(\" \\n\").split()])\n",
        "        matrix = np.array(lines)\n",
        "        s = bct.threshold_proportional(matrix, .20)\n",
        "        fig = plt.figure()\n",
        "        sms.heatmap(s)\n",
        "        fig.savefig('/content/gdrive/My Drive/University/Postgraduate/Research_Project/CNN/FTD/test/control/NIFD-{0}-sub'.format(w))\n",
        "        plt.cla()"
      ],
      "execution_count": null,
      "outputs": []
    },
    {
      "cell_type": "code",
      "metadata": {
        "id": "atDK1p0o7ApM"
      },
      "source": [
        "#Matrix creation\n",
        "#Matrix shape = 65x65\n",
        "#bvftd - Test\n",
        "w = [  (1002), (1005), (1030), (1046), (1060), (1067), (1071), (1083), (1093), (1144), (1149), (1230), (1239), (1249), (1253), (1266), (1280), (1284),]\n",
        "for w in w:\n",
        "        with open(\"/content/gdrive/My Drive/University/Postgraduate/Research_Project/CNN/FTD/untouched/test/bvftd/NIFD-{0}-sub\".format(w)) as file_in:\n",
        "          lines = []\n",
        "          for line in file_in:\n",
        "            lines.append([int(i) for i in line.strip(\" \\n\").split()])\n",
        "        matrix = np.array(lines)\n",
        "        s = bct.threshold_proportional(matrix, .20)\n",
        "        fig = plt.figure()\n",
        "        sms.heatmap(s)\n",
        "        fig.savefig('/content/gdrive/My Drive/University/Postgraduate/Research_Project/CNN/FTD/test/bvftd/NIFD-{0}-sub'.format(w))\n",
        "        plt.cla()"
      ],
      "execution_count": null,
      "outputs": []
    },
    {
      "cell_type": "code",
      "metadata": {
        "id": "UvGSQ17T7l6b"
      },
      "source": [
        "#Matrix creation\n",
        "#Matrix shape = 65x65\n",
        "#nfvppa - Test\n",
        "w = [  (1008), (1033), (1074), (1075), (1088), (1114), (1153), (1235), (1247),]\n",
        "for w in w:\n",
        "        with open(\"/content/gdrive/My Drive/University/Postgraduate/Research_Project/CNN/FTD/untouched/test/nfvppa/NIFD-{0}-sub\".format(w)) as file_in:\n",
        "          lines = []\n",
        "          for line in file_in:\n",
        "            lines.append([int(i) for i in line.strip(\" \\n\").split()])\n",
        "        matrix = np.array(lines)\n",
        "        s = bct.threshold_proportional(matrix, .20)\n",
        "        fig = plt.figure()\n",
        "        sms.heatmap(s)\n",
        "        fig.savefig('/content/gdrive/My Drive/University/Postgraduate/Research_Project/CNN/FTD/test/nfvppa/NIFD-{0}-sub'.format(w))\n",
        "        plt.cla()"
      ],
      "execution_count": null,
      "outputs": []
    },
    {
      "cell_type": "code",
      "metadata": {
        "id": "EL57UfRA7-CW"
      },
      "source": [
        "#Matrix creation\n",
        "#Matrix shape = 65x65\n",
        "#svppa - Test\n",
        "w = [   (1003), (1011), (1019), (1040), (1057), (1119), (1139), (1241), (1279),]\n",
        "for w in w:\n",
        "        with open(\"/content/gdrive/My Drive/University/Postgraduate/Research_Project/CNN/FTD/untouched/test/svppa/NIFD-{0}-sub\".format(w)) as file_in:\n",
        "          lines = []\n",
        "          for line in file_in:\n",
        "            lines.append([int(i) for i in line.strip(\" \\n\").split()])\n",
        "        matrix = np.array(lines)\n",
        "        s = bct.threshold_proportional(matrix, .20)\n",
        "        fig = plt.figure()\n",
        "        sms.heatmap(s)\n",
        "        fig.savefig('/content/gdrive/My Drive/University/Postgraduate/Research_Project/CNN/FTD/test/svppa/NIFD-{0}-sub'.format(w))\n",
        "        plt.cla()"
      ],
      "execution_count": null,
      "outputs": []
    },
    {
      "cell_type": "markdown",
      "metadata": {
        "id": "K7KeR14_Pqb6"
      },
      "source": [
        "#Packages needed for CNN"
      ]
    },
    {
      "cell_type": "code",
      "metadata": {
        "colab": {
          "base_uri": "https://localhost:8080/"
        },
        "id": "yZ-sSSQY8Dzn",
        "outputId": "81d98070-470f-4165-8eb5-9939d325d47f"
      },
      "source": [
        "pip install bctpy"
      ],
      "execution_count": null,
      "outputs": [
        {
          "output_type": "stream",
          "text": [
            "Collecting bctpy\n",
            "  Downloading bctpy-0.5.2-py3-none-any.whl (102 kB)\n",
            "\u001b[?25l\r\u001b[K     |███▏                            | 10 kB 26.1 MB/s eta 0:00:01\r\u001b[K     |██████▍                         | 20 kB 27.7 MB/s eta 0:00:01\r\u001b[K     |█████████▋                      | 30 kB 12.3 MB/s eta 0:00:01\r\u001b[K     |████████████▉                   | 40 kB 9.2 MB/s eta 0:00:01\r\u001b[K     |████████████████                | 51 kB 5.1 MB/s eta 0:00:01\r\u001b[K     |███████████████████▏            | 61 kB 5.2 MB/s eta 0:00:01\r\u001b[K     |██████████████████████▍         | 71 kB 5.3 MB/s eta 0:00:01\r\u001b[K     |█████████████████████████▋      | 81 kB 5.9 MB/s eta 0:00:01\r\u001b[K     |████████████████████████████▊   | 92 kB 4.4 MB/s eta 0:00:01\r\u001b[K     |████████████████████████████████| 102 kB 4.8 MB/s eta 0:00:01\r\u001b[K     |████████████████████████████████| 102 kB 4.8 MB/s \n",
            "\u001b[?25hRequirement already satisfied: numpy in /usr/local/lib/python3.7/dist-packages (from bctpy) (1.19.5)\n",
            "Requirement already satisfied: scipy in /usr/local/lib/python3.7/dist-packages (from bctpy) (1.4.1)\n",
            "Installing collected packages: bctpy\n",
            "Successfully installed bctpy-0.5.2\n"
          ],
          "name": "stdout"
        }
      ]
    },
    {
      "cell_type": "code",
      "metadata": {
        "id": "7TcRCU56kmLV"
      },
      "source": [
        "#This chunk imports the relevant packages to run the CNN. \n",
        "# Tensorflow, tensorflow.keras.models, tensorflow.keras.layers, matplotlib.pyplot, os and cv2 are all necessary to build and view the algorithm. \n",
        "import numpy as np\n",
        "from sklearn.metrics import roc_curve, roc_auc_score\n",
        "import sklearn.metrics as metrics\n",
        "\n",
        "\n",
        "import numpy as np\n",
        "from keras.optimizers import SGD, RMSprop, Adagrad\n",
        "import os\n",
        "import bct\n",
        "import seaborn as sms\n",
        "from keras.layers import BatchNormalization\n",
        "from matplotlib import pyplot as plt\n",
        "from PIL import Image\n",
        "from PIL import Image  \n",
        "import PIL\n",
        "from keras.layers import Dropout, Flatten, Dense \n",
        "import seaborn as sns\n",
        "import matplotlib.pyplot as plt\n",
        "from matplotlib import gridspec\n",
        "import seaborn as sn\n",
        "import pandas as pd\n",
        "import matplotlib.pyplot as plt\n",
        "from pylab import savefig\n",
        "import tensorflow as tf \n",
        "import seaborn as sms\n",
        "import numpy as np\n",
        "import bct\n",
        "from tensorflow.keras import datasets, layers, models\n",
        "from tensorflow.keras.preprocessing.image import ImageDataGenerator\n",
        "from tensorflow.keras.models import Sequential\n",
        "from tensorflow.keras.layers import Conv2D, MaxPool2D, Flatten, Dense\n",
        "from tensorflow.keras.preprocessing.image import ImageDataGenerator\n",
        "from matplotlib import pyplot as plt\n",
        "from sklearn.metrics import auc, confusion_matrix, accuracy_score\n",
        "import itertools    \n",
        "import os\n",
        "import cv2\n"
      ],
      "execution_count": null,
      "outputs": []
    },
    {
      "cell_type": "markdown",
      "metadata": {
        "id": "870oPhiNPwng"
      },
      "source": [
        "# Importing from Google Drive"
      ]
    },
    {
      "cell_type": "code",
      "metadata": {
        "colab": {
          "base_uri": "https://localhost:8080/"
        },
        "id": "eL-I3D-euEHQ",
        "outputId": "68f211b5-77ea-46f9-94b0-4fe382c4fe9e"
      },
      "source": [
        "from google.colab import drive\n",
        "drive.mount('/content/gdrive')"
      ],
      "execution_count": null,
      "outputs": [
        {
          "output_type": "stream",
          "text": [
            "Mounted at /content/gdrive\n"
          ],
          "name": "stdout"
        }
      ]
    },
    {
      "cell_type": "markdown",
      "metadata": {
        "id": "V4hyTLh_P8P6"
      },
      "source": [
        "# Sources of training and test data"
      ]
    },
    {
      "cell_type": "code",
      "metadata": {
        "id": "OV4PchYAy52F"
      },
      "source": [
        "PATH = '/content/gdrive/My Drive/University/Postgraduate/Research_Project/CNN/FTD'"
      ],
      "execution_count": null,
      "outputs": []
    },
    {
      "cell_type": "code",
      "metadata": {
        "colab": {
          "base_uri": "https://localhost:8080/"
        },
        "id": "OwKbbQV2zDnj",
        "outputId": "51bc0002-91ea-4cd5-ad86-b6788281c7c4"
      },
      "source": [
        "os.listdir(PATH)"
      ],
      "execution_count": null,
      "outputs": [
        {
          "output_type": "execute_result",
          "data": {
            "text/plain": [
              "['untouched', 'training', 'test']"
            ]
          },
          "metadata": {
            "tags": []
          },
          "execution_count": 6
        }
      ]
    },
    {
      "cell_type": "code",
      "metadata": {
        "id": "3_w9uFW4ydyM"
      },
      "source": [
        "train_dir = os.path.join(PATH,\n",
        "                         'training')\n",
        "test_dir = os.path.join(PATH,\n",
        "                        'test')"
      ],
      "execution_count": null,
      "outputs": []
    },
    {
      "cell_type": "code",
      "metadata": {
        "id": "V_5IAegkwzTO"
      },
      "source": [
        "train_control_dir = os.path.join(train_dir,\n",
        "                                'control')\n",
        "train_bvFTD_dir = os.path.join(train_dir,\n",
        "                                   'bvFTD')\n",
        "train_svPPA_dir = os.path.join(train_dir,\n",
        "                                   'svPPA')\n",
        "train_nfvPPA_dir = os.path.join(train_dir,\n",
        "                                   'nfvPPA')\n",
        "\n",
        "test_control_dir = os.path.join(test_dir,\n",
        "                                'control')\n",
        "test_bvFTD_dir = os.path.join(test_dir,\n",
        "                                   'bvFTD')\n",
        "test_svPPA_dir = os.path.join(test_dir,\n",
        "                                   'svPPA')\n",
        "test_nfvPPA_dir = os.path.join(test_dir,\n",
        "                                   'nfvPPA')\n"
      ],
      "execution_count": null,
      "outputs": []
    },
    {
      "cell_type": "markdown",
      "metadata": {
        "id": "J_nj0EWcQEDR"
      },
      "source": [
        "#Pre-process the images"
      ]
    },
    {
      "cell_type": "code",
      "metadata": {
        "colab": {
          "base_uri": "https://localhost:8080/"
        },
        "id": "mIzj0q7z0UM3",
        "outputId": "b7f3c429-fbcd-43b1-aef8-ae7003d535ae"
      },
      "source": [
        "train_generator = ImageDataGenerator(rescale=1./255).flow_from_directory(\n",
        "                                                    '/content/gdrive/My Drive/University/Postgraduate/Research_Project/CNN/FTD/training',\n",
        "                                                     target_size=(65, 65),\n",
        "                                                     batch_size=1,\n",
        "                                                     shuffle=True,\n",
        "                                                     class_mode='categorical',\n",
        "                                                     seed=123)\n",
        "\n",
        "test_generator = ImageDataGenerator(rescale=1./255).flow_from_directory(\n",
        "                                                    '/content/gdrive/My Drive/University/Postgraduate/Research_Project/CNN/FTD/test',\n",
        "                                                     target_size=(65, 65),\n",
        "                                                     batch_size=1,\n",
        "                                                     class_mode='categorical',\n",
        "                                                     seed=123)"
      ],
      "execution_count": null,
      "outputs": [
        {
          "output_type": "stream",
          "text": [
            "Found 202 images belonging to 4 classes.\n",
            "Found 68 images belonging to 4 classes.\n"
          ],
          "name": "stdout"
        }
      ]
    },
    {
      "cell_type": "code",
      "metadata": {
        "id": "cEz-N8vs7sVp"
      },
      "source": [
        "X_train, y_train = next(train_generator)\n",
        "X_test, y_test = next(test_generator)"
      ],
      "execution_count": null,
      "outputs": []
    },
    {
      "cell_type": "code",
      "metadata": {
        "colab": {
          "base_uri": "https://localhost:8080/"
        },
        "id": "DiOnYWA9910E",
        "outputId": "0f43dc0f-4134-4fa7-dc86-1b4259cb3abc"
      },
      "source": [
        "train_generator.class_indices"
      ],
      "execution_count": null,
      "outputs": [
        {
          "output_type": "execute_result",
          "data": {
            "text/plain": [
              "{'bvftd': 0, 'control': 1, 'nfvppa': 2, 'svppa': 3}"
            ]
          },
          "metadata": {
            "tags": []
          },
          "execution_count": 11
        }
      ]
    },
    {
      "cell_type": "code",
      "metadata": {
        "colab": {
          "base_uri": "https://localhost:8080/"
        },
        "id": "sWMC0S9-d30J",
        "outputId": "6351693b-bfef-4e39-95e2-530f2bb3796e"
      },
      "source": [
        "test_generator.class_indices"
      ],
      "execution_count": null,
      "outputs": [
        {
          "output_type": "execute_result",
          "data": {
            "text/plain": [
              "{'bvftd': 0, 'control': 1, 'nfvppa': 2, 'svppa': 3}"
            ]
          },
          "metadata": {
            "tags": []
          },
          "execution_count": 12
        }
      ]
    },
    {
      "cell_type": "markdown",
      "metadata": {
        "id": "YzGrlI2TP2-B"
      },
      "source": [
        "# Constructed CNN"
      ]
    },
    {
      "cell_type": "code",
      "metadata": {
        "id": "YyqIeTl4tshT"
      },
      "source": [
        "#The model of choice is sequential as a) it's an industry-wide common one to use, but also: \n",
        "#\"A Sequential model is appropriate for a plain stack of layers where each layer has exactly one input tensor and one output tensor.\"\n",
        "model = Sequential ([\n",
        "                     Conv2D(filters=32, kernel_size=(3,3), activation='relu', padding= 'same', input_shape=(65, 65,3)),\n",
        "                     MaxPool2D(pool_size=(2,2), strides=2),\n",
        "                     Conv2D(filters=64, kernel_size=(3,3), activation='relu', padding= 'same'),\n",
        "                     MaxPool2D(pool_size=(2,2), strides=2),\n",
        "                     Conv2D(filters=64, kernel_size=(3,3), activation='relu', padding= 'same'),\n",
        "                     MaxPool2D(pool_size=(2,2), strides=2),\n",
        "                     BatchNormalization(),\n",
        "                     Flatten(),\n",
        "                     Dropout(0.5),\n",
        "                     Dense(4, activation='softmax'),\n",
        "\n",
        "                     \n",
        "])"
      ],
      "execution_count": null,
      "outputs": []
    },
    {
      "cell_type": "code",
      "metadata": {
        "id": "fStBWP-Eu6pt",
        "colab": {
          "base_uri": "https://localhost:8080/"
        },
        "outputId": "04bbd769-eaba-4fa1-d093-771e345285d6"
      },
      "source": [
        "model.summary()"
      ],
      "execution_count": null,
      "outputs": [
        {
          "output_type": "stream",
          "text": [
            "Model: \"sequential\"\n",
            "_________________________________________________________________\n",
            "Layer (type)                 Output Shape              Param #   \n",
            "=================================================================\n",
            "conv2d (Conv2D)              (None, 65, 65, 32)        896       \n",
            "_________________________________________________________________\n",
            "max_pooling2d (MaxPooling2D) (None, 32, 32, 32)        0         \n",
            "_________________________________________________________________\n",
            "conv2d_1 (Conv2D)            (None, 32, 32, 64)        18496     \n",
            "_________________________________________________________________\n",
            "max_pooling2d_1 (MaxPooling2 (None, 16, 16, 64)        0         \n",
            "_________________________________________________________________\n",
            "conv2d_2 (Conv2D)            (None, 16, 16, 64)        36928     \n",
            "_________________________________________________________________\n",
            "max_pooling2d_2 (MaxPooling2 (None, 8, 8, 64)          0         \n",
            "_________________________________________________________________\n",
            "module_wrapper (ModuleWrappe (None, 8, 8, 64)          256       \n",
            "_________________________________________________________________\n",
            "flatten (Flatten)            (None, 4096)              0         \n",
            "_________________________________________________________________\n",
            "module_wrapper_1 (ModuleWrap (None, 4096)              0         \n",
            "_________________________________________________________________\n",
            "dense (Dense)                (None, 4)                 16388     \n",
            "=================================================================\n",
            "Total params: 72,964\n",
            "Trainable params: 72,836\n",
            "Non-trainable params: 128\n",
            "_________________________________________________________________\n"
          ],
          "name": "stdout"
        }
      ]
    },
    {
      "cell_type": "code",
      "metadata": {
        "id": "sthJwV4EwxFG"
      },
      "source": [
        "opt = RMSprop(learning_rate=0.0001)\n",
        "model.compile(loss = \"categorical_crossentropy\", \n",
        "              metrics=['accuracy'],\n",
        "              optimizer = opt)\n",
        "              "
      ],
      "execution_count": null,
      "outputs": []
    },
    {
      "cell_type": "markdown",
      "metadata": {
        "id": "JQE7quM-Qg9u"
      },
      "source": [
        "#Train the CNN"
      ]
    },
    {
      "cell_type": "code",
      "metadata": {
        "id": "wrnjncs7dUF3",
        "colab": {
          "base_uri": "https://localhost:8080/"
        },
        "outputId": "6ce72f07-f003-43ea-d21c-6aef70061444"
      },
      "source": [
        "history = model.fit(train_generator, epochs=55)"
      ],
      "execution_count": null,
      "outputs": [
        {
          "output_type": "stream",
          "text": [
            "Epoch 1/55\n",
            "202/202 [==============================] - 13s 65ms/step - loss: 1.7214 - accuracy: 0.3614\n",
            "Epoch 2/55\n",
            "202/202 [==============================] - 4s 18ms/step - loss: 1.6058 - accuracy: 0.4208\n",
            "Epoch 3/55\n",
            "202/202 [==============================] - 4s 18ms/step - loss: 1.6270 - accuracy: 0.3960\n",
            "Epoch 4/55\n",
            "202/202 [==============================] - 4s 18ms/step - loss: 1.6747 - accuracy: 0.3515\n",
            "Epoch 5/55\n",
            "202/202 [==============================] - 4s 18ms/step - loss: 1.5256 - accuracy: 0.4059\n",
            "Epoch 6/55\n",
            "202/202 [==============================] - 4s 19ms/step - loss: 1.5593 - accuracy: 0.3762\n",
            "Epoch 7/55\n",
            "202/202 [==============================] - 4s 18ms/step - loss: 1.6292 - accuracy: 0.3812\n",
            "Epoch 8/55\n",
            "202/202 [==============================] - 4s 18ms/step - loss: 1.5924 - accuracy: 0.3812\n",
            "Epoch 9/55\n",
            "202/202 [==============================] - 4s 19ms/step - loss: 1.5904 - accuracy: 0.4059\n",
            "Epoch 10/55\n",
            "202/202 [==============================] - 4s 19ms/step - loss: 1.5055 - accuracy: 0.3564\n",
            "Epoch 11/55\n",
            "202/202 [==============================] - 4s 19ms/step - loss: 1.4077 - accuracy: 0.4158\n",
            "Epoch 12/55\n",
            "202/202 [==============================] - 4s 19ms/step - loss: 1.4450 - accuracy: 0.4158\n",
            "Epoch 13/55\n",
            "202/202 [==============================] - 4s 19ms/step - loss: 1.4206 - accuracy: 0.4752\n",
            "Epoch 14/55\n",
            "202/202 [==============================] - 4s 19ms/step - loss: 1.3553 - accuracy: 0.4554\n",
            "Epoch 15/55\n",
            "202/202 [==============================] - 4s 19ms/step - loss: 1.3019 - accuracy: 0.4505\n",
            "Epoch 16/55\n",
            "202/202 [==============================] - 4s 19ms/step - loss: 1.3333 - accuracy: 0.4752\n",
            "Epoch 17/55\n",
            "202/202 [==============================] - 4s 19ms/step - loss: 1.2909 - accuracy: 0.4356\n",
            "Epoch 18/55\n",
            "202/202 [==============================] - 4s 19ms/step - loss: 1.3020 - accuracy: 0.4604\n",
            "Epoch 19/55\n",
            "202/202 [==============================] - 4s 19ms/step - loss: 1.2280 - accuracy: 0.4802\n",
            "Epoch 20/55\n",
            "202/202 [==============================] - 4s 19ms/step - loss: 1.2118 - accuracy: 0.4901\n",
            "Epoch 21/55\n",
            "202/202 [==============================] - 4s 19ms/step - loss: 1.1899 - accuracy: 0.4653\n",
            "Epoch 22/55\n",
            "202/202 [==============================] - 4s 19ms/step - loss: 1.1708 - accuracy: 0.5050\n",
            "Epoch 23/55\n",
            "202/202 [==============================] - 4s 19ms/step - loss: 1.1084 - accuracy: 0.5297\n",
            "Epoch 24/55\n",
            "202/202 [==============================] - 4s 19ms/step - loss: 1.1096 - accuracy: 0.5396\n",
            "Epoch 25/55\n",
            "202/202 [==============================] - 4s 19ms/step - loss: 1.0794 - accuracy: 0.5545\n",
            "Epoch 26/55\n",
            "202/202 [==============================] - 4s 19ms/step - loss: 1.0671 - accuracy: 0.5347\n",
            "Epoch 27/55\n",
            "202/202 [==============================] - 4s 19ms/step - loss: 1.0482 - accuracy: 0.5941\n",
            "Epoch 28/55\n",
            "202/202 [==============================] - 4s 20ms/step - loss: 0.9788 - accuracy: 0.5842\n",
            "Epoch 29/55\n",
            "202/202 [==============================] - 4s 19ms/step - loss: 1.0030 - accuracy: 0.6089\n",
            "Epoch 30/55\n",
            "202/202 [==============================] - 4s 19ms/step - loss: 0.9391 - accuracy: 0.6337\n",
            "Epoch 31/55\n",
            "202/202 [==============================] - 4s 19ms/step - loss: 0.9017 - accuracy: 0.6485\n",
            "Epoch 32/55\n",
            "202/202 [==============================] - 4s 19ms/step - loss: 0.8597 - accuracy: 0.6733\n",
            "Epoch 33/55\n",
            "202/202 [==============================] - 4s 20ms/step - loss: 0.8120 - accuracy: 0.7079\n",
            "Epoch 34/55\n",
            "202/202 [==============================] - 4s 20ms/step - loss: 0.7971 - accuracy: 0.7079\n",
            "Epoch 35/55\n",
            "202/202 [==============================] - 4s 20ms/step - loss: 0.8343 - accuracy: 0.6584\n",
            "Epoch 36/55\n",
            "202/202 [==============================] - 4s 19ms/step - loss: 0.7739 - accuracy: 0.6881\n",
            "Epoch 37/55\n",
            "202/202 [==============================] - 4s 20ms/step - loss: 0.7426 - accuracy: 0.7228\n",
            "Epoch 38/55\n",
            "202/202 [==============================] - 4s 20ms/step - loss: 0.6575 - accuracy: 0.7772\n",
            "Epoch 39/55\n",
            "202/202 [==============================] - 4s 20ms/step - loss: 0.6290 - accuracy: 0.7772\n",
            "Epoch 40/55\n",
            "202/202 [==============================] - 4s 20ms/step - loss: 0.6489 - accuracy: 0.7426\n",
            "Epoch 41/55\n",
            "202/202 [==============================] - 4s 19ms/step - loss: 0.5976 - accuracy: 0.8267\n",
            "Epoch 42/55\n",
            "202/202 [==============================] - 4s 20ms/step - loss: 0.5662 - accuracy: 0.8119\n",
            "Epoch 43/55\n",
            "202/202 [==============================] - 4s 20ms/step - loss: 0.5469 - accuracy: 0.8119\n",
            "Epoch 44/55\n",
            "202/202 [==============================] - 4s 20ms/step - loss: 0.4815 - accuracy: 0.8614\n",
            "Epoch 45/55\n",
            "202/202 [==============================] - 4s 19ms/step - loss: 0.4941 - accuracy: 0.8366\n",
            "Epoch 46/55\n",
            "202/202 [==============================] - 4s 21ms/step - loss: 0.4782 - accuracy: 0.8515\n",
            "Epoch 47/55\n",
            "202/202 [==============================] - 4s 20ms/step - loss: 0.4468 - accuracy: 0.8663\n",
            "Epoch 48/55\n",
            "202/202 [==============================] - 4s 20ms/step - loss: 0.3735 - accuracy: 0.9158\n",
            "Epoch 49/55\n",
            "202/202 [==============================] - 4s 21ms/step - loss: 0.3820 - accuracy: 0.8861\n",
            "Epoch 50/55\n",
            "202/202 [==============================] - 4s 20ms/step - loss: 0.3340 - accuracy: 0.9059\n",
            "Epoch 51/55\n",
            "202/202 [==============================] - 4s 19ms/step - loss: 0.3596 - accuracy: 0.9010\n",
            "Epoch 52/55\n",
            "202/202 [==============================] - 4s 19ms/step - loss: 0.3151 - accuracy: 0.9059\n",
            "Epoch 53/55\n",
            "202/202 [==============================] - 4s 19ms/step - loss: 0.2688 - accuracy: 0.9307\n",
            "Epoch 54/55\n",
            "202/202 [==============================] - 4s 19ms/step - loss: 0.2549 - accuracy: 0.9406\n",
            "Epoch 55/55\n",
            "202/202 [==============================] - 4s 19ms/step - loss: 0.2152 - accuracy: 0.9554\n"
          ],
          "name": "stdout"
        }
      ]
    },
    {
      "cell_type": "markdown",
      "metadata": {
        "id": "NQJyqkmK4NKw"
      },
      "source": [
        "#Test the CNN\n"
      ]
    },
    {
      "cell_type": "code",
      "metadata": {
        "colab": {
          "base_uri": "https://localhost:8080/"
        },
        "id": "7N_E3QJuBSZG",
        "outputId": "8866a8fa-f3ed-47a4-e03f-66aaf2358b2b"
      },
      "source": [
        "model.evaluate(test_generator, verbose=1)"
      ],
      "execution_count": null,
      "outputs": [
        {
          "output_type": "stream",
          "text": [
            "68/68 [==============================] - 10s 151ms/step - loss: 1.4128 - accuracy: 0.4265\n"
          ],
          "name": "stdout"
        },
        {
          "output_type": "execute_result",
          "data": {
            "text/plain": [
              "[1.4127721786499023, 0.4264705777168274]"
            ]
          },
          "metadata": {
            "tags": []
          },
          "execution_count": 25
        }
      ]
    },
    {
      "cell_type": "markdown",
      "metadata": {
        "id": "Y0-DmJQKBVgY"
      },
      "source": [
        "# Output Metrics\n",
        "\n"
      ]
    },
    {
      "cell_type": "code",
      "metadata": {
        "id": "LT-vzbUpHXi6"
      },
      "source": [
        "predictions = model.predict(test_generator, steps=len(test_generator), verbose=0)"
      ],
      "execution_count": null,
      "outputs": []
    },
    {
      "cell_type": "code",
      "metadata": {
        "id": "I4hpX-E0Hhiw"
      },
      "source": [
        "np.round(predictions)"
      ],
      "execution_count": null,
      "outputs": []
    },
    {
      "cell_type": "code",
      "metadata": {
        "id": "a-O8cVngHtD1"
      },
      "source": [
        "cm = confusion_matrix(y_true=test_generator.classes, y_pred=np.argmax(predictions, axis=-1))"
      ],
      "execution_count": null,
      "outputs": []
    },
    {
      "cell_type": "code",
      "metadata": {
        "id": "NdVVr57LK67P"
      },
      "source": [
        "def plot_confusion_matrix(cm, classes,\n",
        "                          normalize=False,\n",
        "                          title='Confusion matrix',\n",
        "                          cmap=plt.cm.Blues):\n",
        "    \"\"\"\n",
        "    This function prints and plots the confusion matrix.\n",
        "    Normalization can be applied by setting `normalize=True`.\n",
        "    \"\"\"\n",
        "    plt.imshow(cm, interpolation='nearest', cmap=cmap)\n",
        "    plt.title(title)\n",
        "    plt.colorbar()\n",
        "    tick_marks = np.arange(len(classes))\n",
        "    plt.xticks(tick_marks, classes, rotation=45)\n",
        "    plt.yticks(tick_marks, classes)\n",
        "\n",
        "    if normalize:\n",
        "        cm = cm.astype('float') / cm.sum(axis=1)[:, np.newaxis]\n",
        "        print(\"Normalized confusion matrix\")\n",
        "    else:\n",
        "        print('Confusion matrix, without normalization')\n",
        "\n",
        "    print(cm)\n",
        "\n",
        "    thresh = cm.max() / 2.\n",
        "    for i, j in itertools.product(range(cm.shape[0]), range(cm.shape[1])):\n",
        "        plt.text(j, i, cm[i, j],\n",
        "            horizontalalignment=\"center\",\n",
        "            color=\"white\" if cm[i, j] > thresh else \"black\")\n",
        "\n",
        "    plt.tight_layout()\n",
        "    plt.ylabel('True label')\n",
        "    plt.xlabel('Predicted label')"
      ],
      "execution_count": null,
      "outputs": []
    },
    {
      "cell_type": "code",
      "metadata": {
        "colab": {
          "base_uri": "https://localhost:8080/",
          "height": 396
        },
        "id": "VH7WB828K_w_",
        "outputId": "3bc74cf1-9ad2-48b5-bb21-4122e05768a8"
      },
      "source": [
        "cm_plot_labels = ['control','bvftd', 'nfvppa', 'svppa',]\n",
        "plot_confusion_matrix(cm=cm, classes=cm_plot_labels, title='Confusion Matrix')"
      ],
      "execution_count": null,
      "outputs": [
        {
          "output_type": "stream",
          "text": [
            "Confusion matrix, without normalization\n",
            "[[ 5 13  0  0]\n",
            " [13 19  0  0]\n",
            " [ 2  6  1  0]\n",
            " [ 3  6  0  0]]\n"
          ],
          "name": "stdout"
        },
        {
          "output_type": "display_data",
          "data": {
            "image/png": "[encoded data removed]",
            "text/plain": [
              "<Figure size 432x288 with 2 Axes>"
            ]
          },
          "metadata": {
            "tags": [],
            "needs_background": "light"
          }
        }
      ]
    },
    {
      "cell_type": "code",
      "metadata": {
        "colab": {
          "base_uri": "https://localhost:8080/",
          "height": 295
        },
        "id": "kZjYcyiwj7ph",
        "outputId": "d00c1048-b749-4975-bf9b-88de682ec098"
      },
      "source": [
        "plt.plot(history.history['accuracy'])\n",
        "plt.title('model accuracy')\n",
        "plt.ylabel('accuracy')\n",
        "plt.xlabel('epoch')\n",
        "plt.legend(['train', 'val'], loc='upper left')\n",
        "plt.show()"
      ],
      "execution_count": null,
      "outputs": [
        {
          "output_type": "display_data",
          "data": {
            "image/png": "[encoded data removed]",
            "text/plain": [
              "<Figure size 432x288 with 1 Axes>"
            ]
          },
          "metadata": {
            "tags": [],
            "needs_background": "light"
          }
        }
      ]
    }
  ]
}